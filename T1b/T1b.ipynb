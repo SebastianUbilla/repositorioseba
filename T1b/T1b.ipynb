{
 "cells": [
  {
   "cell_type": "code",
   "execution_count": 2,
   "id": "steady-concert",
   "metadata": {},
   "outputs": [],
   "source": [
    "#taller 1.b sebastian ubilla"
   ]
  },
  {
   "cell_type": "code",
   "execution_count": 7,
   "id": "cheap-potential",
   "metadata": {},
   "outputs": [
    {
     "name": "stdout",
     "output_type": "stream",
     "text": [
      "dict_items([('avion', 2), ('perro', 1), ('gato', 2), ('edificio', 1)])\n"
     ]
    }
   ],
   "source": [
    "lista = list()\n",
    "lista = ['avion', 'perro', 'gato', 'avion', 'edificio', 'gato'] #aqui agregar la lista para probar el codigo\n",
    "def ocurrencias(lista):\n",
    "    dic = dict()\n",
    "    for i in lista:\n",
    "        if i in dic:\n",
    "            dic[i]= dic[i] + 1\n",
    "        else:\n",
    "            dic[i]= 1\n",
    "\n",
    "    items = dic.items()\n",
    "    return (items)\n",
    "print(ocurrencias(lista))"
   ]
  }
 ],
 "metadata": {
  "kernelspec": {
   "display_name": "Python 3",
   "language": "python",
   "name": "python3"
  },
  "language_info": {
   "codemirror_mode": {
    "name": "ipython",
    "version": 3
   },
   "file_extension": ".py",
   "mimetype": "text/x-python",
   "name": "python",
   "nbconvert_exporter": "python",
   "pygments_lexer": "ipython3",
   "version": "3.9.2"
  }
 },
 "nbformat": 4,
 "nbformat_minor": 5
}
