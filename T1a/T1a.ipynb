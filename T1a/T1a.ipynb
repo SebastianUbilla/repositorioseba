{
 "cells": [
  {
   "cell_type": "code",
   "execution_count": null,
   "id": "needed-stereo",
   "metadata": {},
   "outputs": [],
   "source": [
    "class Vehiculo():\n",
    "    def __init__(self, color, speed, km, km_max):\n",
    "        # atributos\n",
    "        self.color = \"blanco\"\n",
    "        self.speed = velocidad\n",
    "        self.km = 0\n",
    "        self.km_max = km_max\n",
    "        self.count = 0\n",
    "        self.panne = False\n",
    "        self.eficiencia = 0\n",
    "        \n",
    "\n",
    "    def cambio_de_color(self):\n",
    "        self.color = color_ciudad\n",
    "       \n",
    "    \n",
    "    def cambio_kilometraje(self):\n",
    "        if self.km + km_viaje > km_max:\n",
    "            self.panne = False\n",
    "            self.km = km_max\n",
    "        else:\n",
    "            self.km += km_viaje\n",
    "        tiempo = km_viaje / self.speed\n",
    "        return tiempo\n",
    "        \n",
    "    \n",
    "    def ciudades_recorridas(self):\n",
    "        self.count = self.count + 1\n",
    "        \n",
    "    \n",
    "    def cambio_de_estado(self):\n",
    "        if self.km > self.km_max:\n",
    "             self.panne = True\n",
    "        else:\n",
    "             self.panne = False\n",
    "                \n",
    "    def calculo_de_eficiencia(self):\n",
    "        self.eficiencia = (self.count)/(self.km)\n",
    "        \n",
    "        \n",
    "class Bicicleta(Vehiculo):\n",
    "        self.speed = 30\n",
    "        self.km_max = 1000\n",
    "\n",
    "    \n",
    "class Auto(Vehiculo):\n",
    "        self.speed = 80\n",
    "        self.km_max = 1500\n",
    "\n",
    "            "
   ]
  }
 ],
 "metadata": {
  "kernelspec": {
   "display_name": "Python 3",
   "language": "python",
   "name": "python3"
  },
  "language_info": {
   "codemirror_mode": {
    "name": "ipython",
    "version": 3
   },
   "file_extension": ".py",
   "mimetype": "text/x-python",
   "name": "python",
   "nbconvert_exporter": "python",
   "pygments_lexer": "ipython3",
   "version": "3.9.2"
  }
 },
 "nbformat": 4,
 "nbformat_minor": 5
}
