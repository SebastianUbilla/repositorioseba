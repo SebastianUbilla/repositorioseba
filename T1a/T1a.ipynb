{
 "cells": [
  {
   "cell_type": "code",
   "execution_count": 1,
   "id": "needed-stereo",
   "metadata": {},
   "outputs": [
    {
     "ename": "NameError",
     "evalue": "name 'self' is not defined",
     "output_type": "error",
     "traceback": [
      "\u001b[1;31m---------------------------------------------------------------------------\u001b[0m",
      "\u001b[1;31mNameError\u001b[0m                                 Traceback (most recent call last)",
      "\u001b[1;32m<ipython-input-1-f74aed180775>\u001b[0m in \u001b[0;36m<module>\u001b[1;34m\u001b[0m\n\u001b[0;32m     39\u001b[0m \u001b[1;33m\u001b[0m\u001b[0m\n\u001b[0;32m     40\u001b[0m \u001b[1;33m\u001b[0m\u001b[0m\n\u001b[1;32m---> 41\u001b[1;33m \u001b[1;32mclass\u001b[0m \u001b[0mBicicleta\u001b[0m\u001b[1;33m(\u001b[0m\u001b[0mVehiculo\u001b[0m\u001b[1;33m)\u001b[0m\u001b[1;33m:\u001b[0m\u001b[1;33m\u001b[0m\u001b[1;33m\u001b[0m\u001b[0m\n\u001b[0m\u001b[0;32m     42\u001b[0m         \u001b[0mself\u001b[0m\u001b[1;33m.\u001b[0m\u001b[0mspeed\u001b[0m \u001b[1;33m=\u001b[0m \u001b[1;36m30\u001b[0m\u001b[1;33m\u001b[0m\u001b[1;33m\u001b[0m\u001b[0m\n\u001b[0;32m     43\u001b[0m         \u001b[0mself\u001b[0m\u001b[1;33m.\u001b[0m\u001b[0mkm_max\u001b[0m \u001b[1;33m=\u001b[0m \u001b[1;36m1000\u001b[0m\u001b[1;33m\u001b[0m\u001b[1;33m\u001b[0m\u001b[0m\n",
      "\u001b[1;32m<ipython-input-1-f74aed180775>\u001b[0m in \u001b[0;36mBicicleta\u001b[1;34m()\u001b[0m\n\u001b[0;32m     40\u001b[0m \u001b[1;33m\u001b[0m\u001b[0m\n\u001b[0;32m     41\u001b[0m \u001b[1;32mclass\u001b[0m \u001b[0mBicicleta\u001b[0m\u001b[1;33m(\u001b[0m\u001b[0mVehiculo\u001b[0m\u001b[1;33m)\u001b[0m\u001b[1;33m:\u001b[0m\u001b[1;33m\u001b[0m\u001b[1;33m\u001b[0m\u001b[0m\n\u001b[1;32m---> 42\u001b[1;33m         \u001b[0mself\u001b[0m\u001b[1;33m.\u001b[0m\u001b[0mspeed\u001b[0m \u001b[1;33m=\u001b[0m \u001b[1;36m30\u001b[0m\u001b[1;33m\u001b[0m\u001b[1;33m\u001b[0m\u001b[0m\n\u001b[0m\u001b[0;32m     43\u001b[0m         \u001b[0mself\u001b[0m\u001b[1;33m.\u001b[0m\u001b[0mkm_max\u001b[0m \u001b[1;33m=\u001b[0m \u001b[1;36m1000\u001b[0m\u001b[1;33m\u001b[0m\u001b[1;33m\u001b[0m\u001b[0m\n\u001b[0;32m     44\u001b[0m \u001b[1;33m\u001b[0m\u001b[0m\n",
      "\u001b[1;31mNameError\u001b[0m: name 'self' is not defined"
     ]
    }
   ],
   "source": [
    "class Vehiculo():\n",
    "    def __init__(self, color, speed, km, km_max):\n",
    "        # atributos\n",
    "        self.color = \"blanco\"\n",
    "        self.speed = velocidad\n",
    "        self.km = 0\n",
    "        self.km_max = km_max\n",
    "        self.count = 0\n",
    "        self.panne = False\n",
    "        self.eficiencia = 0\n",
    "        \n",
    "\n",
    "    def cambio_de_color(self):\n",
    "        self.color = color_ciudad\n",
    "       \n",
    "    \n",
    "    def cambio_kilometraje(self):\n",
    "        if self.km + km_viaje > km_max:\n",
    "            self.panne = False\n",
    "            self.km = km_max\n",
    "        else:\n",
    "            self.km += km_viaje\n",
    "        tiempo = km_viaje / self.speed\n",
    "        return tiempo\n",
    "        \n",
    "    \n",
    "    def ciudades_recorridas(self):\n",
    "        self.count = self.count + 1\n",
    "        \n",
    "    \n",
    "    def cambio_de_estado(self):\n",
    "        if self.km > self.km_max:\n",
    "             self.panne = True\n",
    "        else:\n",
    "             self.panne = False\n",
    "                \n",
    "    def calculo_de_eficiencia(self):\n",
    "        self.eficiencia = (self.count)/(self.km)\n",
    "        \n",
    "        \n",
    "class Bicicleta(Vehiculo):\n",
    "    def _init_(self, color = \"blanco\", speed = 30, km = 0, km_max= 1000, count = 0,status = False):\n",
    "        Vehiculo._init_(self, color, speed,km,km_max,count, status)\n",
    "\n",
    "    \n",
    "class Auto(Vehiculo):\n",
    "        self.speed = 80\n",
    "        self.km_max = 1500\n",
    "\n",
    "            "
   ]
  },
  {
   "cell_type": "code",
   "execution_count": null,
   "id": "viral-holmes",
   "metadata": {},
   "outputs": [],
   "source": []
  }
 ],
 "metadata": {
  "kernelspec": {
   "display_name": "Python 3",
   "language": "python",
   "name": "python3"
  },
  "language_info": {
   "codemirror_mode": {
    "name": "ipython",
    "version": 3
   },
   "file_extension": ".py",
   "mimetype": "text/x-python",
   "name": "python",
   "nbconvert_exporter": "python",
   "pygments_lexer": "ipython3",
   "version": "3.9.2"
  }
 },
 "nbformat": 4,
 "nbformat_minor": 5
}
